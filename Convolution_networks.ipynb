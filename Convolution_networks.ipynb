{
 "cells": [
  {
   "cell_type": "code",
   "execution_count": 9,
   "metadata": {},
   "outputs": [],
   "source": [
    "import keras\n",
    "from keras.models import Sequential\n",
    "from keras.layers import Dense\n",
    "from keras.utils import to_categorical"
   ]
  },
  {
   "cell_type": "code",
   "execution_count": 10,
   "metadata": {},
   "outputs": [],
   "source": [
    "from keras.layers.convolutional import Conv2D\n",
    "from keras.layers.convolutional import MaxPooling2D\n",
    "from keras.layers import Flatten"
   ]
  },
  {
   "cell_type": "code",
   "execution_count": 13,
   "metadata": {},
   "outputs": [],
   "source": [
    "from keras.datasets import mnist\n",
    "\n",
    "(X_train, y_train), (X_test,y_test) = mnist.load_data()\n",
    "\n",
    "X_train = X_train.reshape(X_train.shape[0], 28, 28, 1).astype('float32')\n",
    "X_test = X_test.reshape(X_test.shape[0], 28, 28, 1).astype('float32')"
   ]
  },
  {
   "cell_type": "code",
   "execution_count": 14,
   "metadata": {},
   "outputs": [],
   "source": [
    "X_train = X_train/255\n",
    "X_test = X_test/255"
   ]
  },
  {
   "cell_type": "code",
   "execution_count": 15,
   "metadata": {},
   "outputs": [],
   "source": [
    "y_train = to_categorical(y_train)\n",
    "y_test = to_categorical(y_test)"
   ]
  },
  {
   "cell_type": "code",
   "execution_count": 21,
   "metadata": {},
   "outputs": [
    {
     "data": {
      "text/plain": [
       "10"
      ]
     },
     "execution_count": 21,
     "metadata": {},
     "output_type": "execute_result"
    }
   ],
   "source": [
    "num_classes = y_test.shape[1]\n",
    "num_classes"
   ]
  },
  {
   "cell_type": "code",
   "execution_count": 28,
   "metadata": {},
   "outputs": [],
   "source": [
    "def convolutional_model():\n",
    "    model = Sequential()\n",
    "    model.add(Conv2D(16, (5,5), strides=(1,1), activation = 'relu', input_shape =(28,28,1)) )\n",
    "    model.add(MaxPooling2D(pool_size=(2,2), strides =(2,2)))\n",
    "    model.add(Conv2D(32, (5,5), activation = 'relu') )\n",
    "    model.add(MaxPooling2D(pool_size=(2,2), strides =(2,2)))\n",
    "    model.add(Flatten())\n",
    "    model.add(Dense(100,activation = 'relu'))\n",
    "    model.add(Dense(num_classes, activation ='softmax'))\n",
    "    model.compile(optimizer='adam', loss='categorical_crossentropy', metrics = ['accuracy'])\n",
    "    return model"
   ]
  },
  {
   "cell_type": "code",
   "execution_count": 29,
   "metadata": {},
   "outputs": [
    {
     "name": "stdout",
     "output_type": "stream",
     "text": [
      "Train on 60000 samples, validate on 10000 samples\n",
      "Epoch 1/10\n",
      " - 11s - loss: 0.3343 - accuracy: 0.8999 - val_loss: 0.1055 - val_accuracy: 0.9684\n",
      "Epoch 2/10\n",
      " - 11s - loss: 0.0860 - accuracy: 0.9741 - val_loss: 0.0619 - val_accuracy: 0.9808\n",
      "Epoch 3/10\n",
      " - 11s - loss: 0.0600 - accuracy: 0.9815 - val_loss: 0.0501 - val_accuracy: 0.9849\n",
      "Epoch 4/10\n",
      " - 11s - loss: 0.0480 - accuracy: 0.9856 - val_loss: 0.0348 - val_accuracy: 0.9883\n",
      "Epoch 5/10\n",
      " - 11s - loss: 0.0398 - accuracy: 0.9878 - val_loss: 0.0336 - val_accuracy: 0.9896\n",
      "Epoch 6/10\n",
      " - 11s - loss: 0.0323 - accuracy: 0.9902 - val_loss: 0.0374 - val_accuracy: 0.9880\n",
      "Epoch 7/10\n",
      " - 11s - loss: 0.0278 - accuracy: 0.9911 - val_loss: 0.0336 - val_accuracy: 0.9891\n",
      "Epoch 8/10\n",
      " - 11s - loss: 0.0246 - accuracy: 0.9920 - val_loss: 0.0337 - val_accuracy: 0.9891\n",
      "Epoch 9/10\n",
      " - 12s - loss: 0.0209 - accuracy: 0.9932 - val_loss: 0.0247 - val_accuracy: 0.9914\n",
      "Epoch 10/10\n",
      " - 12s - loss: 0.0178 - accuracy: 0.9946 - val_loss: 0.0302 - val_accuracy: 0.9896\n",
      "Accuracy: 0.9896000027656555 \n",
      " Error: 1.0399997234344482\n"
     ]
    }
   ],
   "source": [
    "model = convolutional_model()\n",
    "model.fit(X_train, y_train, validation_data=(X_test,y_test), epochs = 10,batch_size=200, verbose =2)\n",
    "scores = model.evaluate(X_test, y_test, verbose=0)\n",
    "print(\"Accuracy: {} \\n Error: {}\".format(scores[1], 100-scores[1]*100))\n"
   ]
  },
  {
   "cell_type": "code",
   "execution_count": null,
   "metadata": {},
   "outputs": [],
   "source": []
  }
 ],
 "metadata": {
  "kernelspec": {
   "display_name": "Python 3",
   "language": "python",
   "name": "python3"
  },
  "language_info": {
   "codemirror_mode": {
    "name": "ipython",
    "version": 3
   },
   "file_extension": ".py",
   "mimetype": "text/x-python",
   "name": "python",
   "nbconvert_exporter": "python",
   "pygments_lexer": "ipython3",
   "version": "3.7.4"
  }
 },
 "nbformat": 4,
 "nbformat_minor": 2
}
